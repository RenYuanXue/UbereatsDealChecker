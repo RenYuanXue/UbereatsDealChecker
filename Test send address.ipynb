{
 "cells": [
  {
   "cell_type": "code",
   "execution_count": null,
   "metadata": {},
   "outputs": [],
   "source": [
    "from selenium import webdriver\n",
    "from selenium.webdriver.common.by import By\n",
    "from selenium.webdriver.support.ui import WebDriverWait\n",
    "from selenium.webdriver.support import expected_conditions as EC\n",
    "from selenium.webdriver.common.action_chains import ActionChains\n",
    "from selenium.webdriver.common.keys import Keys"
   ]
  },
  {
   "cell_type": "code",
   "execution_count": null,
   "metadata": {},
   "outputs": [],
   "source": [
    "def find_delivery_time(list_of_info):\n",
    "    time = 'Not Found'\n",
    "    for info in list_of_info:\n",
    "        if \"Min\" in info:\n",
    "            time = info\n",
    "    return time\n",
    "\n",
    "def find_delivery_fee(list_of_info):\n",
    "    fee = 'Not Found'\n",
    "    for info in list_of_info:\n",
    "        if \"Delivery Fee\" in info:\n",
    "            fee = info\n",
    "    return fee\n",
    "\n",
    "def rewards(x):\n",
    "    return True if x == 'Buy 1, Get 1 Free' else False\n",
    "\n",
    "class RestaurantInfo:\n",
    "    \n",
    "    def __init__(self, info, link):\n",
    "        self.deal = info[0]\n",
    "        self.name = info[1]\n",
    "        self.link = link\n",
    "        self.fee = find_delivery_fee(info)\n",
    "        self.time = find_delivery_time(info)\n",
    "    \n",
    "    @staticmethod\n",
    "    def is_satisfied(info):\n",
    "        return rewards(info[0])\n",
    "    \n",
    "    def print_info(self):\n",
    "        print('The restaurant {0} has deal {1} with fee {2} and delivery time {3}'.format(self.name, self.deal, self.fee, self.time))"
   ]
  },
  {
   "cell_type": "code",
   "execution_count": null,
   "metadata": {},
   "outputs": [],
   "source": [
    "def get_all_restaurants(driver, my_location, category = 'Deals'):\n",
    "    '''\n",
    "    None = get_to_page(driver, my_location, category = 'Deals')\n",
    "    \n",
    "    Perform a series of simulated clicks on website to get to desired Uber Eats page.\n",
    "    \n",
    "    @param driver: WebDriver\n",
    "        WebDriver object from Selenium.\n",
    "    @param my_location: str\n",
    "        User location input on ubereats.com.\n",
    "    @param category: str\n",
    "        The category user want to check.\n",
    "    '''\n",
    "    # Wait 10 seconds maximum to locate the web elements.\n",
    "    location_pos = WebDriverWait(driver, 10).until(\n",
    "        EC.presence_of_element_located((By.XPATH, '//*[@id=\"location-typeahead-home-input\"]'))\n",
    "    )\n",
    "    find_food_pos = WebDriverWait(driver, 10).until(\n",
    "        EC.presence_of_element_located((By.XPATH, '//*[@id=\"main-content\"]/div[1]/div[2]/div/div[1]/button'))\n",
    "    )\n",
    "    \n",
    "    # Perform series of actions to type my location in the text box\n",
    "    # and redirect to the new page.\n",
    "    actions = ActionChains(driver)\n",
    "    actions.send_keys_to_element(location_pos, my_location)\n",
    "    actions.pause(1)\n",
    "    actions.click(find_food_pos)\n",
    "    actions.perform()\n",
    "    \n",
    "    # If the category can be found in the pre_defined dictionary,\n",
    "    # use the value in the dictionary as xpath.\n",
    "    if category == 'Deals':\n",
    "        nav_pos = WebDriverWait(driver, 10).until(\n",
    "            EC.presence_of_element_located((By.TAG_NAME, 'nav'))\n",
    "        )\n",
    "        deals_pos = nav_pos.find_element_by_tag_name(\"li\")\n",
    "        deals_pos.click()\n",
    "    else:\n",
    "        search_pos = WebDriverWait(driver, 10).until(\n",
    "            EC.presence_of_element_located((By.ID, 'search-suggestions-typeahead-input'))\n",
    "        )\n",
    "        actions = ActionChains(driver)\n",
    "        actions.send_keys_to_element(search_pos, category)\n",
    "        actions.key_down(Keys.ENTER).key_up(Keys.ENTER)\n",
    "        actions.perform()\n",
    "    \n",
    "    # Wait until all elements are present in the list of restaurants.\n",
    "    list_of_restaurants = WebDriverWait(driver, 10).until(\n",
    "        EC.presence_of_all_elements_located((By.XPATH, '//*[@id=\"main-content\"]/div/div/div[2]/div/div[2]'))\n",
    "    )\n",
    "    list_of_restaurants = list_of_restaurants[0]\n",
    "    \n",
    "    # Use the fact that all restaurants have only one figure to find number of restaurants in the page.\n",
    "    figures = WebDriverWait(driver, 10).until(\n",
    "        EC.visibility_of_all_elements_located((By.TAG_NAME, 'figure'))\n",
    "    )\n",
    "    \n",
    "    num_of_restaurants = len(figures)\n",
    "    restaurants = []\n",
    "    \n",
    "    for i in range(num_of_restaurants):\n",
    "        WebDriverWait(driver, 10).until(\n",
    "            EC.text_to_be_present_in_element((By.XPATH, '//*[@id=\"main-content\"]/div/div/div/div/div[2]/div[{0}]'.format(i + 1)),\n",
    "                                          ' ')\n",
    "        )\n",
    "        item = WebDriverWait(driver, 10).until(\n",
    "            EC.presence_of_element_located((By.XPATH, '//*[@id=\"main-content\"]/div/div/div/div/div[2]/div[{0}]'.format(i + 1)))\n",
    "        )\n",
    "        item_info = item.text.split('\\n')\n",
    "        link_info = item.find_element_by_tag_name('a')\n",
    "        link = link_info.get_attribute('href')\n",
    "        \n",
    "        if RestaurantInfo.is_satisfied(item_info):\n",
    "            restaurants.append(RestaurantInfo(item_info, link))\n",
    "    return restaurants"
   ]
  },
  {
   "cell_type": "code",
   "execution_count": null,
   "metadata": {},
   "outputs": [],
   "source": [
    "driver = webdriver.Chrome('C:\\WebDriver\\chromedriver.exe')\n",
    "driver.maximize_window()\n",
    "driver.get('https://www.ubereats.com')\n",
    "\n",
    "get = get_all_restaurants(driver, '181 woodsworth road', 'Bubble Tea')\n",
    "for res in get:\n",
    "    res.print_info()"
   ]
  },
  {
   "cell_type": "code",
   "execution_count": null,
   "metadata": {},
   "outputs": [],
   "source": [
    "for res in get:\n",
    "    print(res.link)"
   ]
  },
  {
   "cell_type": "code",
   "execution_count": null,
   "metadata": {},
   "outputs": [],
   "source": [
    "test = [1, 2, 3, 4, 5]\n",
    "\n",
    "for i in range(10):\n",
    "    print('i = {0}'.format(i))\n",
    "    try:\n",
    "        print(test[i])\n",
    "    except:\n",
    "        continue"
   ]
  },
  {
   "cell_type": "code",
   "execution_count": null,
   "metadata": {},
   "outputs": [],
   "source": [
    "import gunicorn\n",
    "gunicorn.__version__"
   ]
  },
  {
   "cell_type": "code",
   "execution_count": 6,
   "metadata": {},
   "outputs": [],
   "source": [
    "import requests\n",
    "from lxml import html\n",
    "\n",
    "r = requests.get('https://www.ubereats.com/ca/toronto/food-delivery/shuyi-tealicious-%E4%B9%A6%E4%BA%A6%E7%83%A7%E4%BB%99%E8%8D%89-north-york/Ww473q4YTyGr4XJ1oCQTaA?pl=JTdCJTIyYWRkcmVzcyUyMiUzQSUyMjE4MSUyMFdvb2Rzd29ydGglMjBSZCUyMiUyQyUyMnJlZmVyZW5jZSUyMiUzQSUyMjI3NmY5NDIwLTFlYmMtNjAyOS1kNTdlLTc5MGRhNmU1MWRmZSUyMiUyQyUyMnJlZmVyZW5jZVR5cGUlMjIlM0ElMjJ1YmVyX3BsYWNlcyUyMiUyQyUyMmxhdGl0dWRlJTIyJTNBNDMuNzY0Njc0OSUyQyUyMmxvbmdpdHVkZSUyMiUzQS03OS4zNzIxMTA5JTdE')\n",
    "tree = html.fromstring(r.content)\n",
    "test = tree.xpath('//*[@id=\"main-content\"]/div[3]/ul/li[1]/h2/span/text()')"
   ]
  },
  {
   "cell_type": "code",
   "execution_count": 7,
   "metadata": {},
   "outputs": [
    {
     "data": {
      "text/plain": [
       "['Buy 1, Get 1 Free']"
      ]
     },
     "execution_count": 7,
     "metadata": {},
     "output_type": "execute_result"
    }
   ],
   "source": [
    "test"
   ]
  },
  {
   "cell_type": "code",
   "execution_count": 3,
   "metadata": {},
   "outputs": [],
   "source": [
    "grid = tree.xpath('//*[@id=\"main-content\"]/div[3]/ul/li[1]/ul')"
   ]
  },
  {
   "cell_type": "code",
   "execution_count": 6,
   "metadata": {},
   "outputs": [
    {
     "data": {
      "text/plain": [
       "['__add__',\n",
       " '__class__',\n",
       " '__contains__',\n",
       " '__delattr__',\n",
       " '__delitem__',\n",
       " '__dir__',\n",
       " '__doc__',\n",
       " '__eq__',\n",
       " '__format__',\n",
       " '__ge__',\n",
       " '__getattribute__',\n",
       " '__getitem__',\n",
       " '__gt__',\n",
       " '__hash__',\n",
       " '__iadd__',\n",
       " '__imul__',\n",
       " '__init__',\n",
       " '__init_subclass__',\n",
       " '__iter__',\n",
       " '__le__',\n",
       " '__len__',\n",
       " '__lt__',\n",
       " '__mul__',\n",
       " '__ne__',\n",
       " '__new__',\n",
       " '__reduce__',\n",
       " '__reduce_ex__',\n",
       " '__repr__',\n",
       " '__reversed__',\n",
       " '__rmul__',\n",
       " '__setattr__',\n",
       " '__setitem__',\n",
       " '__sizeof__',\n",
       " '__str__',\n",
       " '__subclasshook__',\n",
       " 'append',\n",
       " 'clear',\n",
       " 'copy',\n",
       " 'count',\n",
       " 'extend',\n",
       " 'index',\n",
       " 'insert',\n",
       " 'pop',\n",
       " 'remove',\n",
       " 'reverse',\n",
       " 'sort']"
      ]
     },
     "execution_count": 6,
     "metadata": {},
     "output_type": "execute_result"
    }
   ],
   "source": [
    "dir(grid)"
   ]
  },
  {
   "cell_type": "code",
   "execution_count": 27,
   "metadata": {},
   "outputs": [
    {
     "name": "stdout",
     "output_type": "stream",
     "text": [
      "Red Bull Energy Drink 250mL 4 Pack\n",
      "Red Bull Energy Drink 250mL 4 PackCA$8.88\n",
      "Jack Link's Original Beef Jerky 230g\n",
      "Jack Link's Original Beef Jerky 230gCA$15.99\n",
      "Ben and Jerry's Half Baked 500mL\n",
      "Ben and Jerry's Half Baked 500mLCA$7.99\n"
     ]
    }
   ],
   "source": [
    "for i in grid[0].getchildren():\n",
    "    string = i.text_content()\n",
    "    idx = string.find('$')\n",
    "    print(string[:idx - 2])\n",
    "    print(string)"
   ]
  },
  {
   "cell_type": "code",
   "execution_count": null,
   "metadata": {},
   "outputs": [],
   "source": []
  }
 ],
 "metadata": {
  "kernelspec": {
   "display_name": "Python 3",
   "language": "python",
   "name": "python3"
  },
  "language_info": {
   "codemirror_mode": {
    "name": "ipython",
    "version": 3
   },
   "file_extension": ".py",
   "mimetype": "text/x-python",
   "name": "python",
   "nbconvert_exporter": "python",
   "pygments_lexer": "ipython3",
   "version": "3.7.6"
  }
 },
 "nbformat": 4,
 "nbformat_minor": 4
}
