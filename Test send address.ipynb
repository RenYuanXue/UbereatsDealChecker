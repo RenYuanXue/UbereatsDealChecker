{
 "cells": [
  {
   "cell_type": "code",
   "execution_count": 1,
   "metadata": {},
   "outputs": [],
   "source": [
    "from selenium import webdriver\n",
    "from selenium.webdriver.common.by import By\n",
    "from selenium.webdriver.support.ui import WebDriverWait\n",
    "from selenium.webdriver.support import expected_conditions as EC\n",
    "from selenium.webdriver.common.action_chains import ActionChains\n",
    "from selenium.webdriver.common.keys import Keys"
   ]
  },
  {
   "cell_type": "code",
   "execution_count": 40,
   "metadata": {},
   "outputs": [],
   "source": [
    "def find_delivery_time(list_of_info):\n",
    "    time = 'N/A'\n",
    "    for info in list_of_info:\n",
    "        if \"Min\" in info:\n",
    "            time = info\n",
    "    return time\n",
    "\n",
    "def find_delivery_fee(list_of_info):\n",
    "    fee = 'N/A'\n",
    "    for info in list_of_info:\n",
    "        if \"Delivery Fee\" in info:\n",
    "            fee = info\n",
    "    return fee\n",
    "\n",
    "def rewards(x):\n",
    "    return True if x == 'Buy 1, Get 1 Free' else False\n",
    "\n",
    "class RestaurantInfo:\n",
    "    \n",
    "    def __init__(self, info, link):\n",
    "        self.deal = info[0]\n",
    "        self.name = info[1]\n",
    "        self.link = link\n",
    "        self.fee = find_delivery_fee(info)\n",
    "        self.time = find_delivery_time(info)\n",
    "    \n",
    "    @staticmethod\n",
    "    def is_satisfied(info):\n",
    "        return rewards(info[0])\n",
    "    \n",
    "    def print_info(self):\n",
    "        print('The restaurant {0} has deal {1} with fee {2} and delivery time {3}'.format(self.name, self.deal, self.fee, self.time))"
   ]
  },
  {
   "cell_type": "code",
   "execution_count": 38,
   "metadata": {},
   "outputs": [],
   "source": [
    "def get_all_restaurants(driver, my_location, category = 'Deals'):\n",
    "    '''\n",
    "    None = get_to_page(driver, my_location, category = 'Deals')\n",
    "    \n",
    "    Perform a series of simulated clicks on website to get to desired Uber Eats page.\n",
    "    \n",
    "    @param driver: WebDriver\n",
    "        WebDriver object from Selenium.\n",
    "    @param my_location: str\n",
    "        User location input on ubereats.com.\n",
    "    @param category: str\n",
    "        The category user want to check.\n",
    "    '''\n",
    "    # Wait 10 seconds maximum to locate the web elements.\n",
    "    location_pos = WebDriverWait(driver, 10).until(\n",
    "        EC.presence_of_element_located((By.XPATH, '//*[@id=\"location-typeahead-home-input\"]'))\n",
    "    )\n",
    "    find_food_pos = WebDriverWait(driver, 10).until(\n",
    "        EC.presence_of_element_located((By.XPATH, '//*[@id=\"main-content\"]/div[1]/div[2]/div/div[1]/button'))\n",
    "    )\n",
    "    \n",
    "    # Perform series of actions to type my location in the text box\n",
    "    # and redirect to the new page.\n",
    "    actions = ActionChains(driver)\n",
    "    actions.send_keys_to_element(location_pos, my_location)\n",
    "    actions.pause(1)\n",
    "    actions.click(find_food_pos)\n",
    "    actions.perform()\n",
    "    \n",
    "    # If the category can be found in the pre_defined dictionary,\n",
    "    # use the value in the dictionary as xpath.\n",
    "    if category == 'Deals':\n",
    "        nav_pos = WebDriverWait(driver, 10).until(\n",
    "            EC.presence_of_element_located((By.TAG_NAME, 'nav'))\n",
    "        )\n",
    "        deals_pos = nav_pos.find_element_by_tag_name(\"li\")\n",
    "        deals_pos.click()\n",
    "    else:\n",
    "        search_pos = WebDriverWait(driver, 10).until(\n",
    "            EC.presence_of_element_located((By.ID, 'search-suggestions-typeahead-input'))\n",
    "        )\n",
    "        actions = ActionChains(driver)\n",
    "        actions.send_keys_to_element(search_pos, category)\n",
    "        actions.key_down(Keys.ENTER).key_up(Keys.ENTER)\n",
    "        actions.perform()\n",
    "    \n",
    "    # Wait until all elements are present in the list of restaurants.\n",
    "    list_of_restaurants = WebDriverWait(driver, 10).until(\n",
    "        EC.presence_of_all_elements_located((By.XPATH, '//*[@id=\"main-content\"]/div/div/div[2]/div/div[2]'))\n",
    "    )\n",
    "    list_of_restaurants = list_of_restaurants[0]\n",
    "    \n",
    "    # Use the fact that all restaurants have only one figure to find number of restaurants in the page.\n",
    "    figures = WebDriverWait(driver, 10).until(\n",
    "        EC.visibility_of_all_elements_located((By.TAG_NAME, 'figure'))\n",
    "    )\n",
    "    \n",
    "    num_of_restaurants = len(figures)\n",
    "    restaurants = []\n",
    "    \n",
    "    for i in range(num_of_restaurants):\n",
    "        WebDriverWait(driver, 10).until(\n",
    "            EC.text_to_be_present_in_element((By.XPATH, '//*[@id=\"main-content\"]/div/div/div/div/div[2]/div[{0}]'.format(i + 1)),\n",
    "                                          ' ')\n",
    "        )\n",
    "        item = WebDriverWait(driver, 10).until(\n",
    "            EC.presence_of_element_located((By.XPATH, '//*[@id=\"main-content\"]/div/div/div/div/div[2]/div[{0}]'.format(i + 1)))\n",
    "        )\n",
    "        item_info = item.text.split('\\n')\n",
    "        link_info = item.find_element_by_tag_name('a')\n",
    "        link = link_info.get_attribute('href')\n",
    "        \n",
    "        if RestaurantInfo.is_satisfied(item_info):\n",
    "            restaurants.append(RestaurantInfo(item_info, link))\n",
    "    return restaurants"
   ]
  },
  {
   "cell_type": "code",
   "execution_count": 39,
   "metadata": {},
   "outputs": [
    {
     "name": "stdout",
     "output_type": "stream",
     "text": [
      "The restaurant Shuyi Tealicious 书亦烧仙草 (North York) has deal Buy 1, Get 1 Free with fee $2.49 and delivery time 45–55\n",
      "The restaurant Tea Shop 168 (180 Steeles Ave W) has deal Buy 1, Get 1 Free with fee $4.49 and delivery time 30–40\n",
      "The restaurant Tsaa Tea Shop has deal Buy 1, Get 1 Free with fee $6.49 and delivery time 35–45\n",
      "The restaurant The Dessert Kitchen (Scarborough) has deal Buy 1, Get 1 Free with fee $5.49 and delivery time 40–50\n",
      "The restaurant Sugar Marmalade (North York) has deal Buy 1, Get 1 Free with fee $2.49 and delivery time 30–40\n",
      "The restaurant Sugar Marmalade (Midland) has deal Buy 1, Get 1 Free with fee $4.49 and delivery time 30–40\n",
      "The restaurant Go for Tea (Downtown Markham) has deal Buy 1, Get 1 Free with fee $5.49 and delivery time 35–45\n",
      "The restaurant Gao’s Braised Chicken Rice 高时记黄焖鸡 (37 Sheppard Ave E) has deal Buy 1, Get 1 Free with fee $2.49 and delivery time 35–45\n"
     ]
    }
   ],
   "source": [
    "driver = webdriver.Chrome('C:\\WebDriver\\chromedriver.exe')\n",
    "driver.maximize_window()\n",
    "driver.get('https://www.ubereats.com')\n",
    "\n",
    "get = get_all_restaurants(driver, '181 woodsworth road', 'Bubble Tea')\n",
    "for res in get:\n",
    "    res.print_info()"
   ]
  },
  {
   "cell_type": "code",
   "execution_count": 41,
   "metadata": {},
   "outputs": [
    {
     "name": "stdout",
     "output_type": "stream",
     "text": [
      "https://www.ubereats.com/ca/toronto/food-delivery/shuyi-tealicious-%E4%B9%A6%E4%BA%A6%E7%83%A7%E4%BB%99%E8%8D%89-north-york/Ww473q4YTyGr4XJ1oCQTaA\n",
      "https://www.ubereats.com/ca/toronto/food-delivery/tea-shop-168-180-steeles-ave-w/eIJ32ShTTa279Tzv2p4Eqg\n",
      "https://www.ubereats.com/ca/toronto/food-delivery/tsaa-tea-shop/5-GZ80GRQoyRxSWzf8sLJw\n",
      "https://www.ubereats.com/ca/toronto/food-delivery/the-dessert-kitchen-scarborough/O26Yi6yFTvK1_Q_BTsDEXQ\n",
      "https://www.ubereats.com/ca/toronto/food-delivery/sugar-marmalade-north-york/YjoAAekoT9WZ-9LlNvt-4A\n",
      "https://www.ubereats.com/ca/toronto/food-delivery/sugar-marmalade-midland/wzGRh4mNT3uXxSJOC-0JPQ\n",
      "https://www.ubereats.com/ca/toronto/food-delivery/go-for-tea-downtown-markham/EBVSnCMDROGMPnkEN50_cA\n",
      "https://www.ubereats.com/ca/toronto/food-delivery/gaos-braised-chicken-rice-%E9%AB%98%E6%97%B6%E8%AE%B0%E9%BB%84%E7%84%96%E9%B8%A1-37-sheppard-ave-e/W1u9h5lAQ8StyzV12QTHyQ\n"
     ]
    }
   ],
   "source": [
    "for res in get:\n",
    "    print(res.link)"
   ]
  },
  {
   "cell_type": "code",
   "execution_count": 43,
   "metadata": {},
   "outputs": [
    {
     "name": "stdout",
     "output_type": "stream",
     "text": [
      "i = 0\n",
      "1\n",
      "i = 1\n",
      "2\n",
      "i = 2\n",
      "3\n",
      "i = 3\n",
      "4\n",
      "i = 4\n",
      "5\n",
      "i = 5\n",
      "i = 6\n",
      "i = 7\n",
      "i = 8\n",
      "i = 9\n"
     ]
    }
   ],
   "source": [
    "test = [1, 2, 3, 4, 5]\n",
    "\n",
    "for i in range(10):\n",
    "    print('i = {0}'.format(i))\n",
    "    try:\n",
    "        print(test[i])\n",
    "    except:\n",
    "        continue"
   ]
  },
  {
   "cell_type": "code",
   "execution_count": null,
   "metadata": {},
   "outputs": [],
   "source": []
  }
 ],
 "metadata": {
  "kernelspec": {
   "display_name": "Python 3",
   "language": "python",
   "name": "python3"
  },
  "language_info": {
   "codemirror_mode": {
    "name": "ipython",
    "version": 3
   },
   "file_extension": ".py",
   "mimetype": "text/x-python",
   "name": "python",
   "nbconvert_exporter": "python",
   "pygments_lexer": "ipython3",
   "version": "3.7.6"
  }
 },
 "nbformat": 4,
 "nbformat_minor": 4
}
