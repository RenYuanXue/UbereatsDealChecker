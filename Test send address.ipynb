{
 "cells": [
  {
   "cell_type": "code",
   "execution_count": 28,
   "metadata": {},
   "outputs": [],
   "source": [
    "from selenium import webdriver\n",
    "from selenium.webdriver.common.by import By\n",
    "from selenium.webdriver.support.ui import WebDriverWait\n",
    "from selenium.webdriver.support import expected_conditions as EC\n",
    "from selenium.webdriver.common.action_chains import ActionChains"
   ]
  },
  {
   "cell_type": "code",
   "execution_count": 29,
   "metadata": {},
   "outputs": [],
   "source": [
    "class Restaurant:\n",
    "    \n",
    "    def __init__(self, info):\n",
    "        self.deal = info[0]\n",
    "        self.name = info[1]\n",
    "    \n",
    "    @staticmethod\n",
    "    def is_satisfied(info):\n",
    "        return rewards(info[0])\n",
    "    \n",
    "    # def is_active(info)\n",
    "        \n",
    "    \n",
    "    def print_info(self):\n",
    "        print('The restaurant {0} has deal {1}'.format(self.name, self.deal))"
   ]
  },
  {
   "cell_type": "code",
   "execution_count": 30,
   "metadata": {},
   "outputs": [],
   "source": [
    "category_xpath_dict = {\n",
    "    'deal': '//*[@id=\"main-content\"]/div/div[1]/div[2]/nav/ul/li[1]'\n",
    "}\n",
    "\n",
    "def get_to_page(driver, my_location, category = 'deal'):\n",
    "    '''\n",
    "    None = get_to_page(driver, my_location, category = 'deal')\n",
    "    \n",
    "    Perform a series of simulated clicks on website to get to desired Uber Eats page.\n",
    "    \n",
    "    @param driver: WebDriver\n",
    "        WebDriver object from Selenium.\n",
    "    @param my_location: str\n",
    "        User location input on ubereats.com.\n",
    "    @param category: str\n",
    "        The category user want to check.\n",
    "    '''\n",
    "    # Wait 10 seconds maximum to locate the web elements.\n",
    "    location_pos = WebDriverWait(driver, 10).until(\n",
    "        EC.presence_of_element_located((By.XPATH, '//*[@id=\"location-typeahead-home-input\"]'))\n",
    "    )\n",
    "    find_food_pos = WebDriverWait(driver, 10).until(\n",
    "        EC.presence_of_element_located((By.XPATH, '//*[@id=\"main-content\"]/div[1]/div[2]/div/div[1]/button'))\n",
    "    )\n",
    "    \n",
    "    # Perform series of actions to type my location in the text box\n",
    "    # and redirect to the new page.\n",
    "    actions = ActionChains(driver)\n",
    "    actions.send_keys_to_element(location_pos, my_location)\n",
    "    actions.pause(2)\n",
    "    actions.click(find_food_pos)\n",
    "    actions.perform()\n",
    "    \n",
    "    # If the category can be found in the pre_defined dictionary,\n",
    "    # use the value in the dictionary as xpath.\n",
    "    if category in category_xpath_dict:\n",
    "        category_pos = WebDriverWait(driver, 10).until(\n",
    "            EC.presence_of_element_located((By.XPATH, category_xpath_dict[category]))\n",
    "        )\n",
    "    else:\n",
    "        print(1)\n",
    "    category_pos.click()\n",
    "\n",
    "def     \n",
    "    \n",
    "def rewards(x):\n",
    "    return True if x == 'Buy 1, Get 1 Free' else False"
   ]
  },
  {
   "cell_type": "code",
   "execution_count": 32,
   "metadata": {},
   "outputs": [],
   "source": [
    "driver = webdriver.Chrome('C:\\WebDriver\\chromedriver.exe')\n",
    "driver.maximize_window()\n",
    "driver.get('https://www.ubereats.com')\n",
    "\n",
    "get_to_page(driver, '181 woodsworth road')\n",
    "\n",
    "count = 1\n",
    "restaurants = []\n",
    "for i in range(20):\n",
    "    item = WebDriverWait(driver, 10).until(\n",
    "        EC.presence_of_element_located((By.XPATH, '//*[@id=\"main-content\"]/div/div/div/div/div[2]/div[{0}]'.format(count)))\n",
    "    )\n",
    "    item_info = item.text.split('\\n')\n",
    "    if Restaurant.is_satisfied(item_info):\n",
    "        restaurants.append(Restaurant(item_info))\n",
    "    count += 1"
   ]
  },
  {
   "cell_type": "code",
   "execution_count": 33,
   "metadata": {},
   "outputs": [
    {
     "name": "stdout",
     "output_type": "stream",
     "text": [
      "The restaurant Smash Burger has deal Buy 1, Get 1 Free\n",
      "The restaurant Thai One On (Don Mills) has deal Buy 1, Get 1 Free\n",
      "The restaurant Fresh Bobo Fish 鱻鱼啵啵魚 has deal Buy 1, Get 1 Free\n",
      "The restaurant Demetres (Shops At Don Mills) has deal Buy 1, Get 1 Free\n",
      "The restaurant Lim Ga Ne has deal Buy 1, Get 1 Free\n",
      "The restaurant Ramona's Poutine* has deal Buy 1, Get 1 Free\n",
      "The restaurant Church's Chicken (Lawrence & Kennedy) has deal Buy 1, Get 1 Free\n",
      "The restaurant Poutine Delight (Don Mills) has deal Buy 1, Get 1 Free\n",
      "The restaurant Tokyo Grill (Yonge) has deal Buy 1, Get 1 Free\n",
      "The restaurant Ann's Donburi 长安小饭堂 has deal Buy 1, Get 1 Free\n"
     ]
    }
   ],
   "source": [
    "for res in restaurants:\n",
    "    res.print_info()"
   ]
  },
  {
   "cell_type": "code",
   "execution_count": 5,
   "metadata": {},
   "outputs": [],
   "source": [
    "grid = WebDriverWait(driver, 10).until(\n",
    "            EC.presence_of_element_located((By.XPATH, '//*[@id=\"main-content\"]/div/div/div/div/div[2]'))\n",
    "        )"
   ]
  },
  {
   "cell_type": "code",
   "execution_count": 27,
   "metadata": {},
   "outputs": [
    {
     "data": {
      "text/plain": [
       "0"
      ]
     },
     "execution_count": 27,
     "metadata": {},
     "output_type": "execute_result"
    }
   ],
   "source": [
    "len(driver.find_elements_by_xpath('//*[@id=\"main-content\"]/div/div/div/div/div[3]'))"
   ]
  },
  {
   "cell_type": "code",
   "execution_count": null,
   "metadata": {},
   "outputs": [],
   "source": []
  }
 ],
 "metadata": {
  "kernelspec": {
   "display_name": "Python 3",
   "language": "python",
   "name": "python3"
  },
  "language_info": {
   "codemirror_mode": {
    "name": "ipython",
    "version": 3
   },
   "file_extension": ".py",
   "mimetype": "text/x-python",
   "name": "python",
   "nbconvert_exporter": "python",
   "pygments_lexer": "ipython3",
   "version": "3.7.6"
  }
 },
 "nbformat": 4,
 "nbformat_minor": 4
}
