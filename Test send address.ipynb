{
 "cells": [
  {
   "cell_type": "code",
   "execution_count": null,
   "metadata": {},
   "outputs": [],
   "source": [
    "from selenium import webdriver\n",
    "from selenium.webdriver.common.by import By\n",
    "from selenium.webdriver.support.ui import WebDriverWait\n",
    "from selenium.webdriver.support import expected_conditions as EC\n",
    "from selenium.webdriver.common.action_chains import ActionChains\n",
    "from selenium.webdriver.common.keys import Keys"
   ]
  },
  {
   "cell_type": "code",
   "execution_count": null,
   "metadata": {},
   "outputs": [],
   "source": [
    "def find_delivery_time(list_of_info):\n",
    "    time = 'Not Found'\n",
    "    for info in list_of_info:\n",
    "        if \"Min\" in info:\n",
    "            time = info\n",
    "    return time\n",
    "\n",
    "def find_delivery_fee(list_of_info):\n",
    "    fee = 'Not Found'\n",
    "    for info in list_of_info:\n",
    "        if \"Delivery Fee\" in info:\n",
    "            fee = info\n",
    "    return fee\n",
    "\n",
    "def rewards(x):\n",
    "    return True if x == 'Buy 1, Get 1 Free' else False\n",
    "\n",
    "class RestaurantInfo:\n",
    "    \n",
    "    def __init__(self, info, link):\n",
    "        self.deal = info[0]\n",
    "        self.name = info[1]\n",
    "        self.link = link\n",
    "        self.fee = find_delivery_fee(info)\n",
    "        self.time = find_delivery_time(info)\n",
    "    \n",
    "    @staticmethod\n",
    "    def is_satisfied(info):\n",
    "        return rewards(info[0])\n",
    "    \n",
    "    def print_info(self):\n",
    "        print('The restaurant {0} has deal {1} with fee {2} and delivery time {3}'.format(self.name, self.deal, self.fee, self.time))"
   ]
  },
  {
   "cell_type": "code",
   "execution_count": null,
   "metadata": {},
   "outputs": [],
   "source": [
    "def get_all_restaurants(driver, my_location, category = 'Deals'):\n",
    "    '''\n",
    "    None = get_to_page(driver, my_location, category = 'Deals')\n",
    "    \n",
    "    Perform a series of simulated clicks on website to get to desired Uber Eats page.\n",
    "    \n",
    "    @param driver: WebDriver\n",
    "        WebDriver object from Selenium.\n",
    "    @param my_location: str\n",
    "        User location input on ubereats.com.\n",
    "    @param category: str\n",
    "        The category user want to check.\n",
    "    '''\n",
    "    # Wait 10 seconds maximum to locate the web elements.\n",
    "    location_pos = WebDriverWait(driver, 10).until(\n",
    "        EC.presence_of_element_located((By.XPATH, '//*[@id=\"location-typeahead-home-input\"]'))\n",
    "    )\n",
    "    find_food_pos = WebDriverWait(driver, 10).until(\n",
    "        EC.presence_of_element_located((By.XPATH, '//*[@id=\"main-content\"]/div[1]/div[2]/div/div[1]/button'))\n",
    "    )\n",
    "    \n",
    "    # Perform series of actions to type my location in the text box\n",
    "    # and redirect to the new page.\n",
    "    actions = ActionChains(driver)\n",
    "    actions.send_keys_to_element(location_pos, my_location)\n",
    "    actions.pause(1)\n",
    "    actions.click(find_food_pos)\n",
    "    actions.perform()\n",
    "    \n",
    "    # If the category can be found in the pre_defined dictionary,\n",
    "    # use the value in the dictionary as xpath.\n",
    "    if category == 'Deals':\n",
    "        nav_pos = WebDriverWait(driver, 10).until(\n",
    "            EC.presence_of_element_located((By.TAG_NAME, 'nav'))\n",
    "        )\n",
    "        deals_pos = nav_pos.find_element_by_tag_name(\"li\")\n",
    "        deals_pos.click()\n",
    "    else:\n",
    "        search_pos = WebDriverWait(driver, 10).until(\n",
    "            EC.presence_of_element_located((By.ID, 'search-suggestions-typeahead-input'))\n",
    "        )\n",
    "        actions = ActionChains(driver)\n",
    "        actions.send_keys_to_element(search_pos, category)\n",
    "        actions.key_down(Keys.ENTER).key_up(Keys.ENTER)\n",
    "        actions.perform()\n",
    "    \n",
    "    # Wait until all elements are present in the list of restaurants.\n",
    "    list_of_restaurants = WebDriverWait(driver, 10).until(\n",
    "        EC.presence_of_all_elements_located((By.XPATH, '//*[@id=\"main-content\"]/div/div/div[2]/div/div[2]'))\n",
    "    )\n",
    "    list_of_restaurants = list_of_restaurants[0]\n",
    "    \n",
    "    # Use the fact that all restaurants have only one figure to find number of restaurants in the page.\n",
    "    figures = WebDriverWait(driver, 10).until(\n",
    "        EC.visibility_of_all_elements_located((By.TAG_NAME, 'figure'))\n",
    "    )\n",
    "    \n",
    "    num_of_restaurants = len(figures)\n",
    "    restaurants = []\n",
    "    \n",
    "    for i in range(num_of_restaurants):\n",
    "        WebDriverWait(driver, 10).until(\n",
    "            EC.text_to_be_present_in_element((By.XPATH, '//*[@id=\"main-content\"]/div/div/div/div/div[2]/div[{0}]'.format(i + 1)),\n",
    "                                          ' ')\n",
    "        )\n",
    "        item = WebDriverWait(driver, 10).until(\n",
    "            EC.presence_of_element_located((By.XPATH, '//*[@id=\"main-content\"]/div/div/div/div/div[2]/div[{0}]'.format(i + 1)))\n",
    "        )\n",
    "        item_info = item.text.split('\\n')\n",
    "        link_info = item.find_element_by_tag_name('a')\n",
    "        link = link_info.get_attribute('href')\n",
    "        \n",
    "        if RestaurantInfo.is_satisfied(item_info):\n",
    "            restaurants.append(RestaurantInfo(item_info, link))\n",
    "    return restaurants"
   ]
  },
  {
   "cell_type": "code",
   "execution_count": null,
   "metadata": {},
   "outputs": [],
   "source": [
    "driver = webdriver.Chrome('C:\\WebDriver\\chromedriver.exe')\n",
    "driver.maximize_window()\n",
    "driver.get('https://www.ubereats.com')\n",
    "\n",
    "get = get_all_restaurants(driver, '181 woodsworth road', 'Bubble Tea')\n",
    "for res in get:\n",
    "    res.print_info()"
   ]
  },
  {
   "cell_type": "code",
   "execution_count": null,
   "metadata": {},
   "outputs": [],
   "source": [
    "for res in get:\n",
    "    print(res.link)"
   ]
  },
  {
   "cell_type": "code",
   "execution_count": null,
   "metadata": {},
   "outputs": [],
   "source": [
    "test = [1, 2, 3, 4, 5]\n",
    "\n",
    "for i in range(10):\n",
    "    print('i = {0}'.format(i))\n",
    "    try:\n",
    "        print(test[i])\n",
    "    except:\n",
    "        continue"
   ]
  },
  {
   "cell_type": "code",
   "execution_count": null,
   "metadata": {},
   "outputs": [],
   "source": [
    "import gunicorn\n",
    "gunicorn.__version__"
   ]
  },
  {
   "cell_type": "code",
   "execution_count": 6,
   "metadata": {},
   "outputs": [],
   "source": [
    "import requests\n",
    "from lxml import html\n",
    "\n",
    "r = requests.get('https://www.ubereats.com/ca/toronto/food-delivery/shuyi-tealicious-%E4%B9%A6%E4%BA%A6%E7%83%A7%E4%BB%99%E8%8D%89-north-york/Ww473q4YTyGr4XJ1oCQTaA?pl=JTdCJTIyYWRkcmVzcyUyMiUzQSUyMjE4MSUyMFdvb2Rzd29ydGglMjBSZCUyMiUyQyUyMnJlZmVyZW5jZSUyMiUzQSUyMjI3NmY5NDIwLTFlYmMtNjAyOS1kNTdlLTc5MGRhNmU1MWRmZSUyMiUyQyUyMnJlZmVyZW5jZVR5cGUlMjIlM0ElMjJ1YmVyX3BsYWNlcyUyMiUyQyUyMmxhdGl0dWRlJTIyJTNBNDMuNzY0Njc0OSUyQyUyMmxvbmdpdHVkZSUyMiUzQS03OS4zNzIxMTA5JTdE')\n",
    "tree = html.fromstring(r.content)\n",
    "test = tree.xpath('//*[@id=\"main-content\"]/div[3]/ul/li[1]/h2/span/text()')"
   ]
  },
  {
   "cell_type": "code",
   "execution_count": 27,
   "metadata": {},
   "outputs": [
    {
     "name": "stdout",
     "output_type": "stream",
     "text": [
      "Red Bull Energy Drink 250mL 4 Pack\n",
      "Red Bull Energy Drink 250mL 4 PackCA$8.88\n",
      "Jack Link's Original Beef Jerky 230g\n",
      "Jack Link's Original Beef Jerky 230gCA$15.99\n",
      "Ben and Jerry's Half Baked 500mL\n",
      "Ben and Jerry's Half Baked 500mLCA$7.99\n"
     ]
    }
   ],
   "source": [
    "for i in grid[0].getchildren():\n",
    "    string = i.text_content()\n",
    "    idx = string.find('$')\n",
    "    print(string[:idx - 2])\n",
    "    print(string)"
   ]
  },
  {
   "cell_type": "code",
   "execution_count": 2,
   "metadata": {},
   "outputs": [
    {
     "name": "stdout",
     "output_type": "stream",
     "text": [
      "['Buy 1, Get 1 Free']\n"
     ]
    }
   ],
   "source": [
    "import requests\n",
    "from lxml import html\n",
    "\n",
    "current_url = 'https://www.ubereats.com/ca/toronto/food-delivery/shuyi-tealicious-%E4%B9%A6%E4%BA%A6%E7%83%A7%E4%BB%99%E8%8D%89-northtown-way/HgI2QkOiS5KOwH0aA4_PRg?pl=JTdCJTIyYWRkcmVzcyUyMiUzQSUyMjE4MSUyMFdvb2Rzd29ydGglMjBSZCUyMiUyQyUyMnJlZmVyZW5jZSUyMiUzQSUyMjI3NmY5NDIwLTFlYmMtNjAyOS1kNTdlLTc5MGRhNmU1MWRmZSUyMiUyQyUyMnJlZmVyZW5jZVR5cGUlMjIlM0ElMjJ1YmVyX3BsYWNlcyUyMiUyQyUyMmxhdGl0dWRlJTIyJTNBNDMuNzY0Njc0OSUyQyUyMmxvbmdpdHVkZSUyMiUzQS03OS4zNzIxMTA5JTdE'\n",
    "r = requests.get(current_url)\n",
    "tree = html.fromstring(r.content)\n",
    "current_deal = tree.xpath('//*[@id=\"main-content\"]/div[3]/ul/li[1]/h2/span/text()')\n",
    "print(current_deal)"
   ]
  },
  {
   "cell_type": "code",
   "execution_count": 4,
   "metadata": {},
   "outputs": [
    {
     "name": "stdout",
     "output_type": "stream",
     "text": [
      "['Buy 1, Get 1 Free']\n"
     ]
    }
   ],
   "source": [
    "\n",
    "current_url = 'https://www.ubereats.com/ca/toronto/food-delivery/coco-fresh-tea-%26-juice-7398-yonge-st/4G9bwp9IQ46trzDKC9kcDA?pl=JTdCJTIyYWRkcmVzcyUyMiUzQSUyMjE4MSUyMFdvb2Rzd29ydGglMjBSZCUyMiUyQyUyMnJlZmVyZW5jZSUyMiUzQSUyMjI3NmY5NDIwLTFlYmMtNjAyOS1kNTdlLTc5MGRhNmU1MWRmZSUyMiUyQyUyMnJlZmVyZW5jZVR5cGUlMjIlM0ElMjJ1YmVyX3BsYWNlcyUyMiUyQyUyMmxhdGl0dWRlJTIyJTNBNDMuNzY0Njc0OSUyQyUyMmxvbmdpdHVkZSUyMiUzQS03OS4zNzIxMTA5JTdE'\n",
    "r = requests.get(current_url)\n",
    "tree = html.fromstring(r.content)\n",
    "current_deal = tree.xpath('//*[@id=\"main-content\"]/div[3]/ul/li[1]/h2/span/text()')    \n",
    "print(current_deal)"
   ]
  },
  {
   "cell_type": "code",
   "execution_count": 6,
   "metadata": {},
   "outputs": [
    {
     "ename": "InvalidSelectorException",
     "evalue": "Message: invalid selector: The result of the xpath expression \"//*[@id=\"main-content\"]/div[3]/ul/li[1]/h2/span/text()\" is: [object Text]. It should be an element.\n  (Session info: chrome=89.0.4389.82)\n",
     "output_type": "error",
     "traceback": [
      "\u001b[1;31m---------------------------------------------------------------------------\u001b[0m",
      "\u001b[1;31mInvalidSelectorException\u001b[0m                  Traceback (most recent call last)",
      "\u001b[1;32m<ipython-input-6-c3b765a9c7b0>\u001b[0m in \u001b[0;36m<module>\u001b[1;34m\u001b[0m\n\u001b[0;32m     15\u001b[0m                 ), ' ')\n\u001b[0;32m     16\u001b[0m             )\n\u001b[1;32m---> 17\u001b[1;33m \u001b[0mcurrent_deal\u001b[0m \u001b[1;33m=\u001b[0m \u001b[0mdriver\u001b[0m\u001b[1;33m.\u001b[0m\u001b[0mfind_element_by_xpath\u001b[0m\u001b[1;33m(\u001b[0m\u001b[1;34m'//*[@id=\"main-content\"]/div[3]/ul/li[1]/h2/span/text()'\u001b[0m\u001b[1;33m)\u001b[0m\u001b[1;33m\u001b[0m\u001b[1;33m\u001b[0m\u001b[0m\n\u001b[0m\u001b[0;32m     18\u001b[0m \u001b[0mprint\u001b[0m\u001b[1;33m(\u001b[0m\u001b[0mcurrent_deal\u001b[0m\u001b[1;33m)\u001b[0m\u001b[1;33m\u001b[0m\u001b[1;33m\u001b[0m\u001b[0m\n",
      "\u001b[1;32m~\\anaconda3\\lib\\site-packages\\selenium\\webdriver\\remote\\webdriver.py\u001b[0m in \u001b[0;36mfind_element_by_xpath\u001b[1;34m(self, xpath)\u001b[0m\n\u001b[0;32m    392\u001b[0m             \u001b[0melement\u001b[0m \u001b[1;33m=\u001b[0m \u001b[0mdriver\u001b[0m\u001b[1;33m.\u001b[0m\u001b[0mfind_element_by_xpath\u001b[0m\u001b[1;33m(\u001b[0m\u001b[1;34m'//div/td[1]'\u001b[0m\u001b[1;33m)\u001b[0m\u001b[1;33m\u001b[0m\u001b[1;33m\u001b[0m\u001b[0m\n\u001b[0;32m    393\u001b[0m         \"\"\"\n\u001b[1;32m--> 394\u001b[1;33m         \u001b[1;32mreturn\u001b[0m \u001b[0mself\u001b[0m\u001b[1;33m.\u001b[0m\u001b[0mfind_element\u001b[0m\u001b[1;33m(\u001b[0m\u001b[0mby\u001b[0m\u001b[1;33m=\u001b[0m\u001b[0mBy\u001b[0m\u001b[1;33m.\u001b[0m\u001b[0mXPATH\u001b[0m\u001b[1;33m,\u001b[0m \u001b[0mvalue\u001b[0m\u001b[1;33m=\u001b[0m\u001b[0mxpath\u001b[0m\u001b[1;33m)\u001b[0m\u001b[1;33m\u001b[0m\u001b[1;33m\u001b[0m\u001b[0m\n\u001b[0m\u001b[0;32m    395\u001b[0m \u001b[1;33m\u001b[0m\u001b[0m\n\u001b[0;32m    396\u001b[0m     \u001b[1;32mdef\u001b[0m \u001b[0mfind_elements_by_xpath\u001b[0m\u001b[1;33m(\u001b[0m\u001b[0mself\u001b[0m\u001b[1;33m,\u001b[0m \u001b[0mxpath\u001b[0m\u001b[1;33m)\u001b[0m\u001b[1;33m:\u001b[0m\u001b[1;33m\u001b[0m\u001b[1;33m\u001b[0m\u001b[0m\n",
      "\u001b[1;32m~\\anaconda3\\lib\\site-packages\\selenium\\webdriver\\remote\\webdriver.py\u001b[0m in \u001b[0;36mfind_element\u001b[1;34m(self, by, value)\u001b[0m\n\u001b[0;32m    976\u001b[0m         return self.execute(Command.FIND_ELEMENT, {\n\u001b[0;32m    977\u001b[0m             \u001b[1;34m'using'\u001b[0m\u001b[1;33m:\u001b[0m \u001b[0mby\u001b[0m\u001b[1;33m,\u001b[0m\u001b[1;33m\u001b[0m\u001b[1;33m\u001b[0m\u001b[0m\n\u001b[1;32m--> 978\u001b[1;33m             'value': value})['value']\n\u001b[0m\u001b[0;32m    979\u001b[0m \u001b[1;33m\u001b[0m\u001b[0m\n\u001b[0;32m    980\u001b[0m     \u001b[1;32mdef\u001b[0m \u001b[0mfind_elements\u001b[0m\u001b[1;33m(\u001b[0m\u001b[0mself\u001b[0m\u001b[1;33m,\u001b[0m \u001b[0mby\u001b[0m\u001b[1;33m=\u001b[0m\u001b[0mBy\u001b[0m\u001b[1;33m.\u001b[0m\u001b[0mID\u001b[0m\u001b[1;33m,\u001b[0m \u001b[0mvalue\u001b[0m\u001b[1;33m=\u001b[0m\u001b[1;32mNone\u001b[0m\u001b[1;33m)\u001b[0m\u001b[1;33m:\u001b[0m\u001b[1;33m\u001b[0m\u001b[1;33m\u001b[0m\u001b[0m\n",
      "\u001b[1;32m~\\anaconda3\\lib\\site-packages\\selenium\\webdriver\\remote\\webdriver.py\u001b[0m in \u001b[0;36mexecute\u001b[1;34m(self, driver_command, params)\u001b[0m\n\u001b[0;32m    319\u001b[0m         \u001b[0mresponse\u001b[0m \u001b[1;33m=\u001b[0m \u001b[0mself\u001b[0m\u001b[1;33m.\u001b[0m\u001b[0mcommand_executor\u001b[0m\u001b[1;33m.\u001b[0m\u001b[0mexecute\u001b[0m\u001b[1;33m(\u001b[0m\u001b[0mdriver_command\u001b[0m\u001b[1;33m,\u001b[0m \u001b[0mparams\u001b[0m\u001b[1;33m)\u001b[0m\u001b[1;33m\u001b[0m\u001b[1;33m\u001b[0m\u001b[0m\n\u001b[0;32m    320\u001b[0m         \u001b[1;32mif\u001b[0m \u001b[0mresponse\u001b[0m\u001b[1;33m:\u001b[0m\u001b[1;33m\u001b[0m\u001b[1;33m\u001b[0m\u001b[0m\n\u001b[1;32m--> 321\u001b[1;33m             \u001b[0mself\u001b[0m\u001b[1;33m.\u001b[0m\u001b[0merror_handler\u001b[0m\u001b[1;33m.\u001b[0m\u001b[0mcheck_response\u001b[0m\u001b[1;33m(\u001b[0m\u001b[0mresponse\u001b[0m\u001b[1;33m)\u001b[0m\u001b[1;33m\u001b[0m\u001b[1;33m\u001b[0m\u001b[0m\n\u001b[0m\u001b[0;32m    322\u001b[0m             response['value'] = self._unwrap_value(\n\u001b[0;32m    323\u001b[0m                 response.get('value', None))\n",
      "\u001b[1;32m~\\anaconda3\\lib\\site-packages\\selenium\\webdriver\\remote\\errorhandler.py\u001b[0m in \u001b[0;36mcheck_response\u001b[1;34m(self, response)\u001b[0m\n\u001b[0;32m    240\u001b[0m                 \u001b[0malert_text\u001b[0m \u001b[1;33m=\u001b[0m \u001b[0mvalue\u001b[0m\u001b[1;33m[\u001b[0m\u001b[1;34m'alert'\u001b[0m\u001b[1;33m]\u001b[0m\u001b[1;33m.\u001b[0m\u001b[0mget\u001b[0m\u001b[1;33m(\u001b[0m\u001b[1;34m'text'\u001b[0m\u001b[1;33m)\u001b[0m\u001b[1;33m\u001b[0m\u001b[1;33m\u001b[0m\u001b[0m\n\u001b[0;32m    241\u001b[0m             \u001b[1;32mraise\u001b[0m \u001b[0mexception_class\u001b[0m\u001b[1;33m(\u001b[0m\u001b[0mmessage\u001b[0m\u001b[1;33m,\u001b[0m \u001b[0mscreen\u001b[0m\u001b[1;33m,\u001b[0m \u001b[0mstacktrace\u001b[0m\u001b[1;33m,\u001b[0m \u001b[0malert_text\u001b[0m\u001b[1;33m)\u001b[0m\u001b[1;33m\u001b[0m\u001b[1;33m\u001b[0m\u001b[0m\n\u001b[1;32m--> 242\u001b[1;33m         \u001b[1;32mraise\u001b[0m \u001b[0mexception_class\u001b[0m\u001b[1;33m(\u001b[0m\u001b[0mmessage\u001b[0m\u001b[1;33m,\u001b[0m \u001b[0mscreen\u001b[0m\u001b[1;33m,\u001b[0m \u001b[0mstacktrace\u001b[0m\u001b[1;33m)\u001b[0m\u001b[1;33m\u001b[0m\u001b[1;33m\u001b[0m\u001b[0m\n\u001b[0m\u001b[0;32m    243\u001b[0m \u001b[1;33m\u001b[0m\u001b[0m\n\u001b[0;32m    244\u001b[0m     \u001b[1;32mdef\u001b[0m \u001b[0m_value_or_default\u001b[0m\u001b[1;33m(\u001b[0m\u001b[0mself\u001b[0m\u001b[1;33m,\u001b[0m \u001b[0mobj\u001b[0m\u001b[1;33m,\u001b[0m \u001b[0mkey\u001b[0m\u001b[1;33m,\u001b[0m \u001b[0mdefault\u001b[0m\u001b[1;33m)\u001b[0m\u001b[1;33m:\u001b[0m\u001b[1;33m\u001b[0m\u001b[1;33m\u001b[0m\u001b[0m\n",
      "\u001b[1;31mInvalidSelectorException\u001b[0m: Message: invalid selector: The result of the xpath expression \"//*[@id=\"main-content\"]/div[3]/ul/li[1]/h2/span/text()\" is: [object Text]. It should be an element.\n  (Session info: chrome=89.0.4389.82)\n"
     ]
    }
   ],
   "source": [
    "from selenium import webdriver\n",
    "from selenium.webdriver.common.by import By\n",
    "from selenium.webdriver.support.ui import WebDriverWait\n",
    "from selenium.webdriver.support import expected_conditions as EC\n",
    "from selenium.webdriver.common.action_chains import ActionChains\n",
    "from selenium.webdriver.common.keys import Keys\n",
    "\n",
    "driver = webdriver.Chrome('C:\\WebDriver\\chromedriver.exe')\n",
    "driver.maximize_window()\n",
    "driver.get('https://www.ubereats.com/ca/toronto/food-delivery/coco-fresh-tea-%26-juice-7398-yonge-st/4G9bwp9IQ46trzDKC9kcDA?pl=JTdCJTIyYWRkcmVzcyUyMiUzQSUyMjE4MSUyMFdvb2Rzd29ydGglMjBSZCUyMiUyQyUyMnJlZmVyZW5jZSUyMiUzQSUyMjI3NmY5NDIwLTFlYmMtNjAyOS1kNTdlLTc5MGRhNmU1MWRmZSUyMiUyQyUyMnJlZmVyZW5jZVR5cGUlMjIlM0ElMjJ1YmVyX3BsYWNlcyUyMiUyQyUyMmxhdGl0dWRlJTIyJTNBNDMuNzY0Njc0OSUyQyUyMmxvbmdpdHVkZSUyMiUzQS03OS4zNzIxMTA5JTdE')\n",
    "\n",
    "WebDriverWait(driver, 10).until(\n",
    "                EC.text_to_be_present_in_element(\n",
    "                    (By.XPATH, '//*[@id=\"main-content\"]/div[3]/ul/li[1]/h2/span'\n",
    "                ), ' ')\n",
    "            )\n",
    "current_deal = driver.find_element_by_xpath('//*[@id=\"main-content\"]/div[3]/ul/li[1]/h2/span')\n",
    "print(current_deal)"
   ]
  },
  {
   "cell_type": "code",
   "execution_count": 8,
   "metadata": {},
   "outputs": [
    {
     "name": "stdout",
     "output_type": "stream",
     "text": [
      "Buy 1, Get 1 Free\n"
     ]
    }
   ],
   "source": [
    "current_deal = driver.find_element_by_xpath('//*[@id=\"main-content\"]/div[3]/ul/li[1]/h2/span')\n",
    "print(current_deal.text)"
   ]
  },
  {
   "cell_type": "code",
   "execution_count": 9,
   "metadata": {},
   "outputs": [
    {
     "name": "stdout",
     "output_type": "stream",
     "text": [
      "<selenium.webdriver.remote.webelement.WebElement (session=\"71191402aa01da0085591bae1b661d38\", element=\"128990dd-2850-4682-b860-818bb07906d2\")>\n"
     ]
    }
   ],
   "source": [
    "grid = driver.find_element_by_xpath('//*[@id=\"main-content\"]/div[3]/ul/li[1]/ul')\n",
    "print(grid)"
   ]
  },
  {
   "cell_type": "code",
   "execution_count": 13,
   "metadata": {},
   "outputs": [],
   "source": [
    "item = grid.find_elements_by_tag_name('li')[0]"
   ]
  },
  {
   "cell_type": "code",
   "execution_count": 14,
   "metadata": {},
   "outputs": [
    {
     "data": {
      "text/plain": [
       "'Jasmine Milk Tea\\n$5.15'"
      ]
     },
     "execution_count": 14,
     "metadata": {},
     "output_type": "execute_result"
    }
   ],
   "source": [
    "item.text"
   ]
  },
  {
   "cell_type": "code",
   "execution_count": null,
   "metadata": {},
   "outputs": [],
   "source": []
  }
 ],
 "metadata": {
  "kernelspec": {
   "display_name": "Python 3",
   "language": "python",
   "name": "python3"
  },
  "language_info": {
   "codemirror_mode": {
    "name": "ipython",
    "version": 3
   },
   "file_extension": ".py",
   "mimetype": "text/x-python",
   "name": "python",
   "nbconvert_exporter": "python",
   "pygments_lexer": "ipython3",
   "version": "3.7.6"
  }
 },
 "nbformat": 4,
 "nbformat_minor": 4
}
